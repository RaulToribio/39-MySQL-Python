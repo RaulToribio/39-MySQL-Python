{
 "cells": [
  {
   "cell_type": "code",
   "execution_count": 3,
   "metadata": {},
   "outputs": [
    {
     "name": "stdout",
     "output_type": "stream",
     "text": [
      "Query OK\n"
     ]
    }
   ],
   "source": [
    "import mysql.connector\n",
    "\n",
    "# Establecer conexión a la base de datos\n",
    "cnx = mysql.connector.connect(user='raultoribio', password='1234', host='127.0.0.1', database='codigoIoT')\n",
    "\n",
    "# Crear cursor\n",
    "cursor = cnx.cursor()\n",
    "\n",
    "# Crear la consulta SQL\n",
    "query_insert = \"INSERT INTO rfid(nombre, texto, rfid) VALUES ('RaulToribio', 'Test 01', '12345678')\"\n",
    "\n",
    "# Ejecutar consulta\n",
    "cursor.execute(query_insert)\n",
    "\n",
    "# Confirmar transacción\n",
    "cnx.commit()\n",
    "print(\"Query OK\")\n",
    "\n",
    "# Cerrar cursor y conexión\n",
    "cursor.close()\n",
    "cnx.close()"
   ]
  }
 ],
 "metadata": {
  "kernelspec": {
   "display_name": "base",
   "language": "python",
   "name": "python3"
  },
  "language_info": {
   "codemirror_mode": {
    "name": "ipython",
    "version": 3
   },
   "file_extension": ".py",
   "mimetype": "text/x-python",
   "name": "python",
   "nbconvert_exporter": "python",
   "pygments_lexer": "ipython3",
   "version": "3.9.13"
  },
  "orig_nbformat": 4,
  "vscode": {
   "interpreter": {
    "hash": "bd75aa8ac037c77e38a53cb31f701e4d6a0c40ed03823095844a1ff4d0fc66fe"
   }
  }
 },
 "nbformat": 4,
 "nbformat_minor": 2
}
